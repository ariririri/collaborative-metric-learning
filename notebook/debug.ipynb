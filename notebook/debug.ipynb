{
 "cells": [
  {
   "cell_type": "code",
   "execution_count": 1,
   "metadata": {},
   "outputs": [],
   "source": [
    "from cml.dataloader import UserItemDataset\n",
    "from cml import config"
   ]
  },
  {
   "cell_type": "code",
   "execution_count": 2,
   "metadata": {},
   "outputs": [],
   "source": [
    "%load_ext autoreload"
   ]
  },
  {
   "cell_type": "code",
   "execution_count": 3,
   "metadata": {},
   "outputs": [],
   "source": [
    "%autoreload 2"
   ]
  },
  {
   "cell_type": "code",
   "execution_count": 4,
   "metadata": {},
   "outputs": [
    {
     "name": "stdout",
     "output_type": "stream",
     "text": [
      "/data/machinelearning/cml\n"
     ]
    }
   ],
   "source": [
    "cd .."
   ]
  },
  {
   "cell_type": "markdown",
   "metadata": {},
   "source": [
    "## Sampler実験"
   ]
  },
  {
   "cell_type": "code",
   "execution_count": 5,
   "metadata": {},
   "outputs": [],
   "source": [
    "import numpy as np\n",
    "import torch\n",
    "\n",
    "from torch.utils.data import DataLoader\n",
    "from torch.utils.data.sampler import BatchSampler\n",
    "\n",
    "\n",
    "class BalancedBatchSampler(BatchSampler):\n",
    "    \"\"\"\n",
    "    BatchSampler - from a MNIST-like dataset, samples n_classes and within these classes samples n_samples.\n",
    "    Returns batches of size n_classes * n_samples\n",
    "    \"\"\"\n",
    "\n",
    "    def __init__(self, dataset, n_classes, n_samples):\n",
    "        loader = DataLoader(dataset)\n",
    "        self.labels_list = []\n",
    "        for _, label in loader:\n",
    "            self.labels_list.append(label)\n",
    "        self.labels = torch.LongTensor(self.labels_list)\n",
    "        self.labels_set = list(set(self.labels.numpy()))\n",
    "        self.label_to_indices = {label: np.where(self.labels.numpy() == label)[0]\n",
    "                                 for label in self.labels_set}\n",
    "        for l in self.labels_set:\n",
    "            np.random.shuffle(self.label_to_indices[l])\n",
    "        self.used_label_indices_count = {label: 0 for label in self.labels_set}\n",
    "        self.count = 0\n",
    "        self.n_classes = n_classes\n",
    "        self.n_samples = n_samples\n",
    "        self.dataset = dataset\n",
    "        self.batch_size = self.n_samples * self.n_classes\n",
    "\n",
    "    def __iter__(self):\n",
    "        self.count = 0\n",
    "        while self.count + self.batch_size < len(self.dataset):\n",
    "            classes = np.random.choice(self.labels_set, self.n_classes, replace=False)\n",
    "            indices = []\n",
    "            for class_ in classes:\n",
    "                indices.extend(self.label_to_indices[class_][\n",
    "                               self.used_label_indices_count[class_]:self.used_label_indices_count[\n",
    "                                                                         class_] + self.n_samples])\n",
    "                self.used_label_indices_count[class_] += self.n_samples\n",
    "                if self.used_label_indices_count[class_] + self.n_samples > len(self.label_to_indices[class_]):\n",
    "                    np.random.shuffle(self.label_to_indices[class_])\n",
    "                    self.used_label_indices_count[class_] = 0\n",
    "            self.indices = indices\n",
    "            yield indices\n",
    "            self.count += self.n_classes * self.n_samples\n",
    "\n",
    "    def __len__(self):\n",
    "        return len(self.dataset) // self.batch_size"
   ]
  },
  {
   "cell_type": "code",
   "execution_count": 6,
   "metadata": {},
   "outputs": [],
   "source": [
    "import torch\n",
    "import torchvision\n",
    "import torchvision.transforms as transforms\n",
    "from torchvision import datasets\n",
    "import numpy as np\n",
    "import matplotlib.pyplot as plt\n",
    "\n",
    "n_classes = 5\n",
    "n_samples = 8\n",
    "\n",
    "mnist_train =  torchvision.datasets.MNIST(root=\"mnist/mnist_train\", train=True, download=True, transform=transforms.Compose([transforms.ToTensor(),]))\n",
    "\n",
    "balanced_batch_sampler = BalancedBatchSampler(mnist_train, n_classes, n_samples)\n",
    "\n",
    "dataloader = torch.utils.data.DataLoader(mnist_train, batch_sampler=balanced_batch_sampler)\n",
    "my_testiter = iter(dataloader)\n",
    "images, target = my_testiter.next()\n",
    "\n",
    "\n",
    "def imshow(img):\n",
    "    npimg = img.numpy()\n",
    "    plt.imshow(np.transpose(npimg, (1, 2, 0)))\n",
    "\n",
    "imshow(torchvision.utils.make_grid(images))"
   ]
  },
  {
   "cell_type": "code",
   "execution_count": 7,
   "metadata": {},
   "outputs": [
    {
     "data": {
      "text/plain": [
       "40"
      ]
     },
     "execution_count": 7,
     "metadata": {},
     "output_type": "execute_result"
    }
   ],
   "source": [
    "len(balanced_batch_sampler.indices)"
   ]
  },
  {
   "cell_type": "code",
   "execution_count": 8,
   "metadata": {},
   "outputs": [
    {
     "data": {
      "text/plain": [
       "(torch.Size([40, 1, 28, 28]),)"
      ]
     },
     "execution_count": 8,
     "metadata": {},
     "output_type": "execute_result"
    }
   ],
   "source": [
    "images.shape, "
   ]
  },
  {
   "cell_type": "code",
   "execution_count": 9,
   "metadata": {},
   "outputs": [
    {
     "data": {
      "text/plain": [
       "torch.Size([40])"
      ]
     },
     "execution_count": 9,
     "metadata": {},
     "output_type": "execute_result"
    }
   ],
   "source": [
    "target.shape"
   ]
  },
  {
   "cell_type": "markdown",
   "metadata": {},
   "source": [
    "## 実際にDataloader実行"
   ]
  },
  {
   "cell_type": "code",
   "execution_count": 10,
   "metadata": {},
   "outputs": [
    {
     "name": "stdout",
     "output_type": "stream",
     "text": [
      "4676 features over tag_occurence_thres (10)\n"
     ]
    }
   ],
   "source": [
    "data_set = UserItemDataset()"
   ]
  },
  {
   "cell_type": "code",
   "execution_count": 11,
   "metadata": {},
   "outputs": [
    {
     "data": {
      "text/plain": [
       "(7947, 25975)"
      ]
     },
     "execution_count": 11,
     "metadata": {},
     "output_type": "execute_result"
    }
   ],
   "source": [
    "data_set.user_item_matrix.shape"
   ]
  },
  {
   "cell_type": "code",
   "execution_count": 12,
   "metadata": {},
   "outputs": [
    {
     "data": {
      "text/plain": [
       "array([[1, 1, 0],\n",
       "       [1, 0, 0]])"
      ]
     },
     "execution_count": 12,
     "metadata": {},
     "output_type": "execute_result"
    }
   ],
   "source": [
    "a = 3\n",
    "np.random.choice(a, [2, 3])"
   ]
  },
  {
   "cell_type": "code",
   "execution_count": 13,
   "metadata": {},
   "outputs": [
    {
     "data": {
      "text/plain": [
       "array([138286891,  63879782,   5574163, ..., 109979572,  48128150,\n",
       "       116053616])"
      ]
     },
     "execution_count": 13,
     "metadata": {},
     "output_type": "execute_result"
    }
   ],
   "source": [
    "np.random.permutation(np.arange(data_set.neg_data_num))\n",
    "#[:self.data_num * self.neg_rate"
   ]
  },
  {
   "cell_type": "code",
   "execution_count": 14,
   "metadata": {},
   "outputs": [
    {
     "data": {
      "text/plain": [
       "array([ 4, 24, 23, ..., 71, 10,  4], dtype=int64)"
      ]
     },
     "execution_count": 14,
     "metadata": {},
     "output_type": "execute_result"
    }
   ],
   "source": [
    "data_set.user_item_matrix.sum(axis=1).getA().reshape(-1)"
   ]
  },
  {
   "cell_type": "code",
   "execution_count": 15,
   "metadata": {},
   "outputs": [
    {
     "name": "stdout",
     "output_type": "stream",
     "text": [
      "tensor([[ 6213, 14595,  6213, 21965],\n",
      "        [  352, 12922,   352, 16095]])\n",
      "tensor([[ 5241, 11304,  5241,  9575],\n",
      "        [ 7903, 15137,  7903, 17091]])\n",
      "tensor([[  484, 25873,   484, 18267],\n",
      "        [ 3386, 21528,  3386, 17523]])\n",
      "tensor([[ 5570, 17357,  5570,  3848],\n",
      "        [ 2100, 16942,  2100,  5780]])\n",
      "tensor([[ 5570,  1915,  5570, 16733],\n",
      "        [ 1112,   747,  1112,  4805]])\n",
      "tensor([[  638,  7648,   638, 15755],\n",
      "        [  366, 16771,   366,  3019]])\n",
      "tensor([[ 2100, 20336,  2100, 18373],\n",
      "        [  401,  7892,   401,  9078]])\n",
      "tensor([[ 2248, 18187,  2248,  4703],\n",
      "        [ 5730, 10211,  5730,  8813]])\n",
      "tensor([[ 3479, 24888,  3479, 20243],\n",
      "        [ 2441, 16771,  2441,  3291]])\n",
      "tensor([[ 2775,  7239,  2775, 10307],\n",
      "        [ 5374, 20571,  5374,  2218]])\n"
     ]
    }
   ],
   "source": [
    "dataloader = torch.utils.data.DataLoader(data_set, batch_size=2, shuffle=True)\n",
    "\n",
    "c = 0\n",
    "for i in dataloader:\n",
    "    c += 1\n",
    "    print(i)\n",
    "    if c > 9:\n",
    "        break"
   ]
  },
  {
   "cell_type": "markdown",
   "metadata": {},
   "source": [
    "## sample Dataloader"
   ]
  },
  {
   "cell_type": "code",
   "execution_count": 16,
   "metadata": {},
   "outputs": [],
   "source": [
    "import torch\n",
    "class MyDataset(torch.utils.data.Dataset):\n",
    "\n",
    "    def __init__(self, data_num, transform=None):\n",
    "        self.transform = transform\n",
    "        self.data_num = data_num\n",
    "        self.data = []\n",
    "        self.label = []\n",
    "        for x in range(self.data_num):\n",
    "            self.data.append(x) # 0 から (data_num-1) までのリスト\n",
    "            self.label.append(x%2 == 0) # 偶数ならTrue 奇数ならFalse\n",
    "\n",
    "    def __len__(self):\n",
    "        return self.data_num\n",
    "\n",
    "    def __getitem__(self, idx):\n",
    "        out_data = self.data[idx]\n",
    "        out_label =  self.label[idx]\n",
    "\n",
    "        if self.transform:\n",
    "            out_data = self.transform(out_data)\n",
    "\n",
    "        return out_data, out_label"
   ]
  },
  {
   "cell_type": "code",
   "execution_count": 17,
   "metadata": {},
   "outputs": [],
   "source": [
    "class Square(object):\n",
    "    def __init__(self):\n",
    "        pass\n",
    "\n",
    "    def __call__(self, sample):\n",
    "        return sample ** 2\n",
    "transform = Square()"
   ]
  },
  {
   "cell_type": "code",
   "execution_count": 18,
   "metadata": {},
   "outputs": [],
   "source": [
    "#sample_data_set = MyDataset(10, transform=Square())\n",
    "#dataloader = torch.utils.data.DataLoader(sample_data_set, batch_size=2, shuffle=True)\n"
   ]
  },
  {
   "cell_type": "markdown",
   "metadata": {},
   "source": [
    "## Model"
   ]
  },
  {
   "cell_type": "code",
   "execution_count": 19,
   "metadata": {},
   "outputs": [],
   "source": [
    "from cml.model import CML, CMLLoss"
   ]
  },
  {
   "cell_type": "code",
   "execution_count": 20,
   "metadata": {},
   "outputs": [],
   "source": [
    "_mm = CML()"
   ]
  },
  {
   "cell_type": "code",
   "execution_count": 21,
   "metadata": {},
   "outputs": [],
   "source": [
    "loss = CMLLoss()"
   ]
  },
  {
   "cell_type": "code",
   "execution_count": 22,
   "metadata": {},
   "outputs": [],
   "source": [
    "x = _mm(i)"
   ]
  },
  {
   "cell_type": "code",
   "execution_count": 23,
   "metadata": {},
   "outputs": [],
   "source": [
    "result = loss(x.reshape(2, 20 ,3))"
   ]
  },
  {
   "cell_type": "code",
   "execution_count": 24,
   "metadata": {},
   "outputs": [],
   "source": [
    "_mm.zero_grad()"
   ]
  },
  {
   "cell_type": "code",
   "execution_count": 25,
   "metadata": {},
   "outputs": [],
   "source": [
    "result.backward()"
   ]
  },
  {
   "cell_type": "code",
   "execution_count": 26,
   "metadata": {},
   "outputs": [],
   "source": [
    "from torch import nn, optim\n",
    "params = optim.Adam(_mm.parameters(),\n",
    "    lr=0.0002, betas=(0.5, 0.999))"
   ]
  },
  {
   "cell_type": "code",
   "execution_count": 27,
   "metadata": {},
   "outputs": [],
   "source": [
    "params.step()"
   ]
  },
  {
   "cell_type": "code",
   "execution_count": 28,
   "metadata": {},
   "outputs": [
    {
     "data": {
      "text/plain": [
       "tensor([[ 0.9952, -0.4716, -1.4834,  0.3695, -0.9039,  0.6469,  0.0485, -1.6525,\n",
       "          0.8413, -1.1711, -1.2909,  0.0210, -0.1428, -0.9309, -0.3986, -0.9815,\n",
       "          0.5958,  1.5354, -2.4230, -0.8629],\n",
       "        [-0.0535, -0.6980, -0.5668, -1.1298,  0.0255,  0.9324,  1.8599, -0.0089,\n",
       "          0.8309, -0.8600,  0.1652, -0.6625,  1.6645,  0.5967,  0.6169, -0.1157,\n",
       "          0.5032,  0.5428,  0.8342, -1.1091]], grad_fn=<SelectBackward>)"
      ]
     },
     "execution_count": 28,
     "metadata": {},
     "output_type": "execute_result"
    }
   ],
   "source": [
    "torch.cat([_mm.user, _mm.pos, _mm.neg]).reshape(2, 20, 3)[:, :, 0]"
   ]
  },
  {
   "cell_type": "code",
   "execution_count": 29,
   "metadata": {},
   "outputs": [],
   "source": [
    "batch_size = 2\n",
    "pos = i[:, 0:batch_size]\n",
    "neg = i[:]"
   ]
  },
  {
   "cell_type": "code",
   "execution_count": 30,
   "metadata": {},
   "outputs": [
    {
     "data": {
      "text/plain": [
       "tensor([2775, 5374])"
      ]
     },
     "execution_count": 30,
     "metadata": {},
     "output_type": "execute_result"
    }
   ],
   "source": [
    "i[:, 0]"
   ]
  },
  {
   "cell_type": "code",
   "execution_count": 31,
   "metadata": {},
   "outputs": [],
   "source": [
    "import torch.nn as nn\n",
    "class DebugModel(nn.Module):\n",
    "    def __init__(self, user_size=7947, item_size=25975, embed_dim=20):\n",
    "        super(CML, self).__init__()\n",
    "        self.user_size = user_size\n",
    "        self.item_size = item_size\n",
    "        self.embed_dim = embed_dim\n",
    "\n",
    "        self.user_embedding = nn.Embedding(user_size, embed_dim, padding_idx=0)\n",
    "        self.item_embedding = nn.Embedding(item_size, embed_dim, padding_idx=0)\n",
    "\n",
    "    \n",
    "    def forward(self, data):\n",
    "        #batch, user \n",
    "        self.user = self.user_embedding(pos[:,  0])\n",
    "        self.pos = self.item_embedding(pos[:, 1])\n",
    "        self.neg = self.item_embedding(neg[:, 3])\n",
    "        # これでいいのか?\n",
    "        return torch.cat([self.user, self.pos, self.neg])"
   ]
  },
  {
   "cell_type": "code",
   "execution_count": null,
   "metadata": {},
   "outputs": [],
   "source": []
  },
  {
   "cell_type": "code",
   "execution_count": 32,
   "metadata": {},
   "outputs": [],
   "source": [
    "def train():\n",
    "    data_set = UserItemDataset()\n",
    "    dataloader = torch.utils.data.DataLoader(data_set, batch_size=2, shuffle=True)\n",
    "    model = CML()\n",
    "    loss = CMLLoss()\n",
    "    opt = optim.Adam(model.parameters(),\n",
    "        lr=0.0002, betas=(0.5, 0.999))\n",
    "\n",
    "    for data in dataloader:\n",
    "        model.zero_grad()\n",
    "        x = model(data)\n",
    "        result = loss(x)\n",
    "        result.backward()\n",
    "        opt.step()"
   ]
  },
  {
   "cell_type": "code",
   "execution_count": 33,
   "metadata": {},
   "outputs": [
    {
     "name": "stdout",
     "output_type": "stream",
     "text": [
      "4676 features over tag_occurence_thres (10)\n"
     ]
    }
   ],
   "source": [
    "train()"
   ]
  },
  {
   "cell_type": "code",
   "execution_count": null,
   "metadata": {},
   "outputs": [],
   "source": []
  }
 ],
 "metadata": {
  "kernelspec": {
   "display_name": "Python 3",
   "language": "python",
   "name": "python3"
  },
  "language_info": {
   "codemirror_mode": {
    "name": "ipython",
    "version": 3
   },
   "file_extension": ".py",
   "mimetype": "text/x-python",
   "name": "python",
   "nbconvert_exporter": "python",
   "pygments_lexer": "ipython3",
   "version": "3.7.4"
  }
 },
 "nbformat": 4,
 "nbformat_minor": 4
}
